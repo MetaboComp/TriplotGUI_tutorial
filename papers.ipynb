{
  "cells": [
    {
      "cell_type": "raw",
      "metadata": {},
      "source": [
        "---\n",
        "layout: page\n",
        "title: Relevant papers\n",
        "title-block-banner: true\n",
        "title-block-banner-color: white\n",
        "excerpt: Relevant papers\n",
        "comments: false\n",
        "execute:\n",
        "  freeze: true  # never re-render during project render\n",
        "engine: knitr \n",
        "page-layout: full\n",
        "\n",
        "\n",
        "paper:\n",
        "  pdf: \"pdf/Triplot_paper.pdf\"\n",
        "---"
      ],
      "id": "476afa60"
    },
    {
      "cell_type": "markdown",
      "metadata": {},
      "source": [
        "```{css echo=FALSE}\n",
        ".embed-container {\n",
        "    position: relative;\n",
        "    padding-bottom: 65%;  \n",
        "    overflow: hidden;\n",
        "    max-width: 150%;\n",
        "}\n",
        ".embed-container iframe,\n",
        ".embed-container object,\n",
        ".embed-container embed {\n",
        "    position: absolute;\n",
        "    top: 0;\n",
        "    left: 0;\n",
        "    width: 100%;\n",
        "    height: 100%;\n",
        "}\n",
        "```\n",
        "\n",
        "```{=html}\n",
        "<p class=\"text-center\">\n",
        "\n",
        "<a class=\"btn btn-outline-info btn-lg cv-download\" href=\"`r rmarkdown::metadata$paper$pdf`\" target=\"_blank\"> <i class=\"fa-solid  fa-file-arrow-down\"></i>&ensp; Download paper </a>\n",
        "\n",
        "</p>\n",
        "```\n",
        "\n",
        "\n",
        "Main paper\n",
        "::: embed-container\n",
        "<iframe src=\"`r rmarkdown::metadata$paper$pdf`\" style=\"border: 5px\"></iframe>\n",
        ":::\n",
        "Schillemans T, Yan Y, Ribbenstedt A, Donat-Vargas C, Lindh CH, Kiviranta H, Rantakokko P, Wolk A, Landberg R, Åkesson A, Brunius C. OMICs Signatures Linking Persistent Organic Pollutants to Cardiovascular Disease in the Swedish Mammography Cohort. Environ Sci Technol. 2024 Jan 16;58(2):1036-1047. doi: 10.1021/acs.est.3c06388. Epub 2024 Jan 4. PMID: 38174696; PMCID: PMC10795192."
      ],
      "id": "4ae79668"
    }
  ],
  "metadata": {
    "kernelspec": {
      "name": "python3",
      "language": "python",
      "display_name": "Python 3"
    }
  },
  "nbformat": 4,
  "nbformat_minor": 5
}